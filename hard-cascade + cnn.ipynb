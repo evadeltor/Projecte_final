{
 "cells": [
  {
   "cell_type": "code",
   "execution_count": null,
   "metadata": {},
   "outputs": [],
   "source": [
    "import cv2\n",
    "import numpy as np\n",
    "import pickle"
   ]
  },
  {
   "cell_type": "code",
   "execution_count": null,
   "metadata": {},
   "outputs": [],
   "source": [
    "#load the model\n",
    "with open('cnn_model.pkl', 'rb') as p_f:\n",
    "    model = pickle.load(p_f)"
   ]
  },
  {
   "cell_type": "code",
   "execution_count": null,
   "metadata": {},
   "outputs": [],
   "source": [
    "cap = cv2.VideoCapture(0)\n",
    "face_classifier = cv2.CascadeClassifier('Haarcascades/haarcascade_frontalface_default.xml')\n",
    "while True:\n",
    "\n",
    "    # Get webcam images\n",
    "    ret, frame = cap.read()\n",
    "\n",
    "    height, width = frame.shape[:2]\n",
    "\n",
    "    top_left_x = width // 3\n",
    "    top_left_y = (height // 2) + (height // 4)\n",
    "    bottom_right_x = (width // 3) * 2\n",
    "    bottom_right_y = (height // 2) - (height // 4)\n",
    "\n",
    "    faces = face_classifier.detectMultiScale(frame, 1.3, 5)\n",
    "    print(faces)\n",
    "       \n",
    "    for (x,y,w,h) in faces:\n",
    "        cv2.rectangle(frame, (x,y),(x+w,y+h), (127,0,255), 2)\n",
    "    \n",
    "        magin = 30\n",
    "        top_left_x = x-magin\n",
    "        top_left_y = y-magin\n",
    "        bottom_right_x = x+w+magin\n",
    "        bottom_right_y = y+h+magin\n",
    "    \n",
    "\n",
    "        cropped = frame[top_left_y:bottom_right_y, top_left_x:bottom_right_x]\n",
    "        \n",
    "        \n",
    "        color_eva= cv2.cvtColor(cropped,cv2.COLOR_BGR2RGB)\n",
    "        img = np.resize(color_eva, (224,224,3))\n",
    "        im2arr = np.array(img)\n",
    "        im2arr1 = im2arr.reshape(1,224,224,3)\n",
    "\n",
    "\n",
    "        predictions = model.predict(im2arr1)\n",
    "\n",
    "        if predictions < 0.0001:\n",
    "            text = \"EVA\"\n",
    "        elif predictions > 0.99:\n",
    "            text = \"EDGAR\"\n",
    "        else:\n",
    "            text = \"patata\"\n",
    "\n",
    "        cv2.putText(frame,text,(30,70), cv2.FONT_HERSHEY_COMPLEX, 2 ,(255,255,255), 6)\n",
    "         \n",
    "      \n",
    "        \n",
    "    ####\n",
    "    #DETECTTION CODE\n",
    "    ####\n",
    "    cv2.imshow('Object Detector using ORB', frame)\n",
    "    \n",
    "    if cv2.waitKey(1) == 13: #13 is the Enter Key\n",
    "        break\n",
    "\n",
    "cap.release()\n",
    "cv2.destroyAllWindows()\n",
    "cv2.waitKey(1)"
   ]
  },
  {
   "cell_type": "code",
   "execution_count": null,
   "metadata": {},
   "outputs": [],
   "source": []
  }
 ],
 "metadata": {
  "kernelspec": {
   "display_name": "Python 3",
   "language": "python",
   "name": "python3"
  },
  "language_info": {
   "codemirror_mode": {
    "name": "ipython",
    "version": 3
   },
   "file_extension": ".py",
   "mimetype": "text/x-python",
   "name": "python",
   "nbconvert_exporter": "python",
   "pygments_lexer": "ipython3",
   "version": "3.7.3"
  }
 },
 "nbformat": 4,
 "nbformat_minor": 2
}
